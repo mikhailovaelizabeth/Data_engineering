{
 "cells": [
  {
   "metadata": {},
   "cell_type": "raw",
   "source": "",
   "id": "7e3818e0aa247e60"
  }
 ],
 "metadata": {},
 "nbformat": 4,
 "nbformat_minor": 5
}
